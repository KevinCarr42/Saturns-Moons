{
 "cells": [
  {
   "cell_type": "markdown",
   "metadata": {},
   "source": [
    "# REFERENCES\n",
    "\n",
    "Information\n",
    "* https://en.wikipedia.org/wiki/Saturn\n",
    "* https://en.wikipedia.org/wiki/Janus_(moon)\n",
    "* https://en.wikipedia.org/wiki/Epimetheus_(moon)\n",
    "* https://en.wikipedia.org/wiki/Gravitational_constant\n",
    "* https://py.processing.org/reference/\n",
    "\n",
    "Coding Train: The Nature of Code 2\n",
    "* https://www.youtube.com/playlist?list=PLRqwX-V7Uu6ZV4yEcW3uDwOgGXKUUsPOM"
   ]
  },
  {
   "cell_type": "code",
   "execution_count": 1,
   "metadata": {
    "id": "-poALq0stY6M"
   },
   "outputs": [],
   "source": [
    "# scaling factors\n",
    "OG = 6.6743*10**(-11)  # actual gravitational constant, m3 kg-1 s-2\n",
    "ds = DISTANCE_SCALE_FACTOR = 1 / 10**6  # Mm / m\n",
    "ts = TIME_SCALE_FACTOR = 1 / 1000  # timesteps / s\n",
    "ms = MASS_SCALE_FACTOR = 1 / 10**17  # massunits / kg\n",
    "G = OG * (ds * ds * ds) / (ms * ts * ts)   # scaled gravitaional constant\n",
    "    \n",
    "# constants with scaled equivalents\n",
    "SATURN_MASS = 5.6834*10**26\n",
    "m_s = SATURN_MASS * MASS_SCALE_FACTOR\n",
    "\n",
    "JANUS_MASS = 1.8975*10**18\n",
    "m_j = JANUS_MASS * MASS_SCALE_FACTOR\n",
    "JANUS_ORBIT = 152035000  # m\n",
    "o_j = JANUS_ORBIT * DISTANCE_SCALE_FACTOR\n",
    "\n",
    "EPIMETHEUS_MASS = 5.266*10**17\n",
    "m_e = EPIMETHEUS_MASS * MASS_SCALE_FACTOR\n",
    "EPIMETHEUS_ORBIT = 152085000  # m\n",
    "o_e = EPIMETHEUS_ORBIT * DISTANCE_SCALE_FACTOR \n",
    "\n",
    "# orbital velocity calcs\n",
    "JANUS_ORBITAL_SPEED = ((OG * SATURN_MASS) / JANUS_ORBIT) ** (1/2)\n",
    "v_j = JANUS_ORBITAL_SPEED * DISTANCE_SCALE_FACTOR / TIME_SCALE_FACTOR  # Mm / timestep\n",
    "\n",
    "EPIMETHEUS_ORBITAL_SPEED = ((OG * SATURN_MASS) / EPIMETHEUS_ORBIT) ** (1/2)\n",
    "v_e = EPIMETHEUS_ORBITAL_SPEED * DISTANCE_SCALE_FACTOR / TIME_SCALE_FACTOR  # Mm / timestep\n"
   ]
  },
  {
   "cell_type": "code",
   "execution_count": 99,
   "metadata": {
    "colab": {
     "base_uri": "https://localhost:8080/"
    },
    "id": "UQZnj7j-tdyb",
    "outputId": "07634dab-d5a3-403e-e6bb-891c6fee7f82"
   },
   "outputs": [
    {
     "name": "stdout",
     "output_type": "stream",
     "text": [
      "0.0000066743\n"
     ]
    }
   ],
   "source": [
    "# G scaled\n",
    "print(f\"{G:.10f}\")"
   ]
  },
  {
   "cell_type": "code",
   "execution_count": 100,
   "metadata": {
    "colab": {
     "base_uri": "https://localhost:8080/"
    },
    "id": "-fg4QwQjtjuT",
    "outputId": "9117ef05-d96f-4fa6-c945-c7ce73577d31"
   },
   "outputs": [
    {
     "data": {
      "text/plain": [
       "5683400000"
      ]
     },
     "execution_count": 100,
     "metadata": {},
     "output_type": "execute_result"
    }
   ],
   "source": [
    "# Saturn's Mass scaled\n",
    "round(m_s)"
   ]
  },
  {
   "cell_type": "code",
   "execution_count": 102,
   "metadata": {
    "colab": {
     "base_uri": "https://localhost:8080/"
    },
    "id": "SYlOE7PLtwI4",
    "outputId": "53eb4687-0080-4b63-d532-b979cbfd7166"
   },
   "outputs": [
    {
     "name": "stdout",
     "output_type": "stream",
     "text": [
      "18.975 152.035 15.795565692635599\n"
     ]
    }
   ],
   "source": [
    "print(m_j, o_j, v_j)"
   ]
  },
  {
   "cell_type": "code",
   "execution_count": 103,
   "metadata": {
    "colab": {
     "base_uri": "https://localhost:8080/"
    },
    "id": "jviNPxw2tzNj",
    "outputId": "1db7fb5f-c345-454e-c7ba-42537cd8c95f"
   },
   "outputs": [
    {
     "name": "stdout",
     "output_type": "stream",
     "text": [
      "5.266 152.08499999999998 -15.792968976299743\n"
     ]
    }
   ],
   "source": [
    "print(m_e, o_e, -v_e)"
   ]
  },
  {
   "cell_type": "code",
   "execution_count": 101,
   "metadata": {
    "colab": {
     "base_uri": "https://localhost:8080/"
    },
    "id": "4qSlS2R_t24r",
    "outputId": "ab6b509d-1a72-468f-f64d-c9491903c170"
   },
   "outputs": [
    {
     "data": {
      "text/plain": [
       "2198.7951807228915"
      ]
     },
     "execution_count": 101,
     "metadata": {},
     "output_type": "execute_result"
    }
   ],
   "source": [
    "# how many orbits until swap?\n",
    "\n",
    "orbital_period = 0.664 # days\n",
    "swap_period = 4 * 365 # approx days\n",
    "num_orbits = swap_period / orbital_period\n",
    "\n",
    "# orbits before swap\n",
    "num_orbits"
   ]
  },
  {
   "cell_type": "code",
   "execution_count": 3,
   "metadata": {},
   "outputs": [
    {
     "data": {
      "text/plain": [
       "(61.0, 0.057999999999999996, 0.09)"
      ]
     },
     "execution_count": 3,
     "metadata": {},
     "output_type": "execute_result"
    }
   ],
   "source": [
    "# how big would they be if I drew them to scale?\n",
    "\n",
    "SATURN_RADIUS = 61_000_000  # m\n",
    "EPIMETHEUS_RADIUS = 58_000  # m\n",
    "JANUS_RADIUS = 90_000  # m\n",
    "\n",
    "# scaled\n",
    "SATURN_RADIUS * ds, EPIMETHEUS_RADIUS * ds, JANUS_RADIUS * ds\n",
    "\n",
    "# saturn would be visible, but Epimetheus and Janus would be less than 1/10 of a pixel"
   ]
  }
 ],
 "metadata": {
  "colab": {
   "collapsed_sections": [],
   "name": "saturns moons.ipynb",
   "provenance": []
  },
  "kernelspec": {
   "display_name": "Python 3 (ipykernel)",
   "language": "python",
   "name": "python3"
  },
  "language_info": {
   "codemirror_mode": {
    "name": "ipython",
    "version": 3
   },
   "file_extension": ".py",
   "mimetype": "text/x-python",
   "name": "python",
   "nbconvert_exporter": "python",
   "pygments_lexer": "ipython3",
   "version": "3.9.7"
  }
 },
 "nbformat": 4,
 "nbformat_minor": 1
}
